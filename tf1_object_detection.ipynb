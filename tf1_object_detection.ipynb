{
  "nbformat": 4,
  "nbformat_minor": 0,
  "metadata": {
    "accelerator": "GPU",
    "colab": {
      "name": "tf1_object_detection.ipynb",
      "provenance": [],
      "collapsed_sections": [
        "6v3BN5SGKk5v",
        "oZtPmDb_Kx9A",
        "xcHj9BraK83U",
        "yNLE2nLELTDT",
        "SMxTSBlOLcYu",
        "4cXSbe5KLmq8",
        "UW6UT59aLyoh",
        "xHddnP11L4i-",
        "S9bN2JiwMFjO"
      ]
    },
    "kernelspec": {
      "display_name": "Python 3",
      "name": "python3"
    }
  },
  "cells": [
    {
      "cell_type": "markdown",
      "metadata": {
        "id": "6v3BN5SGKk5v"
      },
      "source": [
        "# Mount Drive"
      ]
    },
    {
      "cell_type": "code",
      "metadata": {
        "id": "zb0vHozPdu4p"
      },
      "source": [
        "from google.colab import drive\n",
        "drive.mount('/content/drive')"
      ],
      "execution_count": null,
      "outputs": []
    },
    {
      "cell_type": "markdown",
      "metadata": {
        "id": "oZtPmDb_Kx9A"
      },
      "source": [
        "# Install Tensorflow Version "
      ]
    },
    {
      "cell_type": "code",
      "metadata": {
        "id": "6MX4lYFkeeho"
      },
      "source": [
        "%tensorflow_version 2.X\n",
        "import tensorflow as tf\n",
        "tf.__version__"
      ],
      "execution_count": null,
      "outputs": []
    },
    {
      "cell_type": "markdown",
      "metadata": {
        "id": "xcHj9BraK83U"
      },
      "source": [
        "# Requirements"
      ]
    },
    {
      "cell_type": "code",
      "metadata": {
        "id": "mJgtyJ1MNe6S"
      },
      "source": [
        "\n",
        "%cd /content/drive/MyDrive/tf1/models/research\n",
        "!protoc --python_out=. ./object_detection/protos/anchor_generator.proto ./object_detection/protos/argmax_matcher.proto ./object_detection/protos/bipartite_matcher.proto ./object_detection/protos/box_coder.proto ./object_detection/protos/box_predictor.proto ./object_detection/protos/eval.proto ./object_detection/protos/faster_rcnn.proto ./object_detection/protos/faster_rcnn_box_coder.proto ./object_detection/protos/grid_anchor_generator.proto ./object_detection/protos/hyperparams.proto ./object_detection/protos/image_resizer.proto ./object_detection/protos/input_reader.proto ./object_detection/protos/losses.proto ./object_detection/protos/matcher.proto ./object_detection/protos/mean_stddev_box_coder.proto ./object_detection/protos/model.proto ./object_detection/protos/optimizer.proto ./object_detection/protos/pipeline.proto ./object_detection/protos/post_processing.proto ./object_detection/protos/preprocessor.proto ./object_detection/protos/region_similarity_calculator.proto ./object_detection/protos/square_box_coder.proto ./object_detection/protos/ssd.proto ./object_detection/protos/ssd_anchor_generator.proto ./object_detection/protos/string_int_label_map.proto ./object_detection/protos/train.proto ./object_detection/protos/keypoint_box_coder.proto ./object_detection/protos/multiscale_anchor_generator.proto ./object_detection/protos/graph_rewriter.proto ./object_detection/protos/calibration.proto ./object_detection/protos/flexible_grid_anchor_generator.proto\n"
      ],
      "execution_count": null,
      "outputs": []
    },
    {
      "cell_type": "code",
      "metadata": {
        "id": "Vmd_Zljgex0O"
      },
      "source": [
        "%cd /content/drive/MyDrive/tf1/models/research\n",
        "!python setup.py build\n",
        "!python setup.py install"
      ],
      "execution_count": null,
      "outputs": []
    },
    {
      "cell_type": "code",
      "metadata": {
        "id": "kb9xkNFpEyIh"
      },
      "source": [
        "\n",
        "%cd /content/drive/MyDrive/tf1/models/research/slim/\n",
        "!python setup.py build\n",
        "!python setup.py install"
      ],
      "execution_count": null,
      "outputs": []
    },
    {
      "cell_type": "markdown",
      "metadata": {
        "id": "yNLE2nLELTDT"
      },
      "source": [
        "# Test Images"
      ]
    },
    {
      "cell_type": "code",
      "metadata": {
        "id": "_SU4Ek8b3uF3"
      },
      "source": [
        "!ls /content/drive/MyDrive/tf1/models/research/object_detection/images/test/*.jpg | wc -l "
      ],
      "execution_count": null,
      "outputs": []
    },
    {
      "cell_type": "code",
      "metadata": {
        "id": "GqZKXD6PcsIS"
      },
      "source": [
        "import tensorflow as tf\n",
        "tf.test.is_gpu_available()\n"
      ],
      "execution_count": null,
      "outputs": []
    },
    {
      "cell_type": "markdown",
      "metadata": {
        "id": "SMxTSBlOLcYu"
      },
      "source": [
        "# Generating TF Records"
      ]
    },
    {
      "cell_type": "code",
      "metadata": {
        "id": "Qj3oPgKUg5-3"
      },
      "source": [
        "%cd /content/drive/MyDrive/tf1/models/research/object_detection\n",
        "\n",
        "\n",
        "!python generate_tfrecord.py --csv_input=images/train.csv --image_dir=images/train --output_path=train.record\n",
        "!python generate_tfrecord.py --csv_input=images/test.csv  --image_dir=images/test --output_path=test.record\n"
      ],
      "execution_count": null,
      "outputs": []
    },
    {
      "cell_type": "markdown",
      "metadata": {
        "id": "4cXSbe5KLmq8"
      },
      "source": [
        "# Traing"
      ]
    },
    {
      "cell_type": "code",
      "metadata": {
        "colab": {
          "background_save": true
        },
        "id": "aHfyLQ8ili8E"
      },
      "source": [
        "%cd /content/drive/MyDrive/tf1/models/research/object_detection\n",
        "!python train.py --logtostderr --train_dir=training/ --pipeline_config_path=training/faster_rcnn_inception_v2_pets.config\n"
      ],
      "execution_count": null,
      "outputs": []
    },
    {
      "cell_type": "code",
      "metadata": {
        "id": "MZPpP80YXNeS"
      },
      "source": [
        "///%load_ext tensorboard\n",
        "%tensorboard --logdir training/"
      ],
      "execution_count": null,
      "outputs": []
    },
    {
      "cell_type": "markdown",
      "metadata": {
        "id": "UW6UT59aLyoh"
      },
      "source": [
        "# Evaluation"
      ]
    },
    {
      "cell_type": "code",
      "metadata": {
        "id": "XSBMizUIFjm_"
      },
      "source": [
        "%cd /content/drive/MyDrive/tf1/models/research/object_detection\n",
        "!python /content/drive/MyDrive/tf1/models/research/object_detection/legacy/eval.py --logtostderr --checkpoint_dir=training --eval_dir=images/test --pipeline_config_path=/content/drive/MyDrive/tf1/models/research/object_detection/training/faster_rcnn_inception_v2_pets.config"
      ],
      "execution_count": null,
      "outputs": []
    },
    {
      "cell_type": "markdown",
      "metadata": {
        "id": "xHddnP11L4i-"
      },
      "source": [
        "# Inference Graph"
      ]
    },
    {
      "cell_type": "code",
      "metadata": {
        "id": "R9JmwXQZn-f6"
      },
      "source": [
        "%cd /content/drive/MyDrive/tf1/models/research/object_detection\n",
        "!python export_inference_graph.py --input_type image_tensor --pipeline_config_path training/faster_rcnn_inception_v2_pets.config --trained_checkpoint_prefix training/model.ckpt-37946 --output_directory inference_graph_50k"
      ],
      "execution_count": null,
      "outputs": []
    },
    {
      "cell_type": "markdown",
      "metadata": {
        "id": "S9bN2JiwMFjO"
      },
      "source": [
        "# Testing On Images"
      ]
    },
    {
      "cell_type": "code",
      "metadata": {
        "id": "u0dctsx97l0Q"
      },
      "source": [
        "%cd /content/drive/MyDrive/tf1/models/research/object_detection\n",
        "!python Object_detection_image.py"
      ],
      "execution_count": null,
      "outputs": []
    }
  ]
}